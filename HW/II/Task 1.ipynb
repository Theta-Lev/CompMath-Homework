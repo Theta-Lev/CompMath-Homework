{
 "cells": [
  {
   "cell_type": "markdown",
   "id": "dbef4155-9a2e-4499-a0b8-13ee97958851",
   "metadata": {},
   "source": [
    "<ol>\n",
    "    <h1>Упражнение 1 - Генератор случайных матриц</h1>\n",
    "    Реализовать генератор матриц, который должен поддерживать функции:\n",
    "    <li>Генерация абсолютно случайной матрицы $ n \\times m $;</li>\n",
    "    <li>Генерация случайной диагональной матрицы $ n \\times n $;</li>\n",
    "    <li>Генерация случайной верхнетреугольной матрицы;</li>\n",
    "    <li>Генерация случайной нижнетреугольной матрицы;</li>\n",
    "    <li>Генерация симметричной матрицы</li>\n",
    "    <li>Генерация вырожденной матрицы</li>\n",
    "    <li>Генерация матрицы ступенчатого вида $ n \\times n $ ранга $ m $;</li>\n",
    "    <li>Генерация возмущения матрицы $ n \\times m $, каждый элемент которой не превосходит по модулю заданный $ \\epsilon $. Оценить величину нормы матрицы возмущений в зависимости от параметра $ \\epsilon $ (оценить верхную границу);</li>\n",
    "    Оценить численно вероятность того, что созданная матрица будет вырожденной для какого-либо случая выше.\n",
    "</ol>\n",
    "<hr>"
   ]
  },
  {
   "cell_type": "code",
   "execution_count": 35,
   "id": "44fe2b08-8fe2-4e9d-bfd3-38f8ed901f9d",
   "metadata": {},
   "outputs": [],
   "source": [
    "import numpy as np\n",
    "\n",
    "def matrix_generate(rows, columns, type_ = \"full\", rank = 0, eps = 0):\n",
    "    \"\"\"\n",
    "    matrix_generate(rows, columns, type_ = \"full\")\n",
    "\n",
    "    Создаёт случайную матрицу выбранного типа.\n",
    "\n",
    "    Если матрицу нужных размеров создать нельзя должен выдать\n",
    "    строку f\"Error with type {type_} and shape ({rows},{columns})\".\n",
    "\n",
    "    Parameters\n",
    "    ----------\n",
    "\n",
    "    rows : int\n",
    "        Количество строк в создаваемой матрице.\n",
    "    columns : int\n",
    "        Количество столбцов в создаваемой матрице.\n",
    "    type_ : str, optional\n",
    "        Тип создаваемой матрицы: \"full\", \"upper_triangular\", \"symmetric\" и т.д.\n",
    "    rank : int, optional\n",
    "        Ранг создаваемой матрицы, используется при генерации некоторых типов матриц\n",
    "    eps: float, optional\n",
    "        Дополнительное число, использующееся при генерации для некоторых типов матриц.\n",
    "\n",
    "    Returns\n",
    "    -------\n",
    "    out : ndarray or str\n",
    "        Выдаёт матрицу нужного типа либо ошибку.\n",
    "\n",
    "    Notes\n",
    "    -----\n",
    "    Поддерживаемые типы матриц:\n",
    "        \"full\" - абсолютно случайная матрица\n",
    "        \"diagonal\" - случайная диагональная матрица\n",
    "        \"upper_triangular\", \"lower_triangular\" - случайные верхне- и нижне-треугольные матрицы\n",
    "        \"symmetric\" - случайная симметричная матрица\n",
    "        \"singular\" - случайная вырожденная матрица\n",
    "        \"perturbation\" - матрица возмущения\n",
    "    \"\"\"\n",
    "    A = None\n",
    "    if type_ == \"full\":\n",
    "        A = np.random.random(size=(rows, columns))\n",
    "    elif type_ == \"diagonal\":\n",
    "        if rows != columns:\n",
    "            return f\"Error with type {type_} and shape ({rows},{columns})\"\n",
    "        else:\n",
    "            A = np.diag(np.diag(np.random.random(size=(rows, columns))))\n",
    "    elif type_ == \"upper_triangular\":\n",
    "        A = np.random.random(size=(rows, columns))\n",
    "        A = np.triu(A)\n",
    "    elif type_ == \"lower_triangular\":\n",
    "        A = np.random.random(size=(rows, columns))\n",
    "        A = np.tril(A)\n",
    "    elif type_ == \"symmetric\":\n",
    "    # Идея очень проста: создадим матрицу из верхнетреугольной и нижнетреугольной транспортированной, затем вычтем одну диагональную часть,\n",
    "    # так как учли её дважды\n",
    "        if rows != columns:\n",
    "            return f\"Error with type {type_} and shape ({rows},{columns})\"\n",
    "        else:\n",
    "            A = np.random.random(size=(rows, columns))\n",
    "            A = np.tril(A.T) + np.triu(A) - np.diag(np.diag(A))\n",
    "    elif type_ == \"singular\":\n",
    "    # Здесь воспользуемся такой идеей: ортогональная матрица обратима и не меняет определитель и ранг при произведении,\n",
    "    # следовательно создадим точно необратимую матрицу (например, диагональную с нулями и единицами на диагонали),\n",
    "    # затем умножим её на случайную ортогональную\n",
    "        if rows != columns:\n",
    "            return f\"Error with type {type_} and shape ({rows},{columns})\"\n",
    "        else:\n",
    "            I = np.ones(rank)\n",
    "            for i in range(rows - rank):\n",
    "                I = np.insert(I, np.random.randint(len(I)), 0)\n",
    "            S = np.diag(I)\n",
    "            U, R = np.linalg.qr(np.random.random(size=(rows, columns)))\n",
    "            V, R = np.linalg.qr(np.random.random(size=(rows, columns)))\n",
    "            A = U @ S @ V.T\n",
    "\n",
    "    elif type_ == \"perturbation\":\n",
    "        if eps < 0:\n",
    "            return f\"Error with epsilon value {eps}\"\n",
    "        else:\n",
    "            A = np.random.uniform(-eps, eps, size=(rows, columns))\n",
    "    else:\n",
    "        return f\"Error, no type {type_}\"\n",
    "    return A"
   ]
  },
  {
   "cell_type": "code",
   "execution_count": 2,
   "id": "9d43240e-5164-4d99-8c7f-2f56c5e10151",
   "metadata": {},
   "outputs": [
    {
     "data": {
      "text/plain": [
       "array([[0.62370401, 0.70209783, 0.65718191, 0.10026853],\n",
       "       [0.89059901, 0.19173117, 0.99872878, 0.58070429],\n",
       "       [0.40923407, 0.87239488, 0.56842024, 0.95699815]])"
      ]
     },
     "execution_count": 2,
     "metadata": {},
     "output_type": "execute_result"
    }
   ],
   "source": [
    "matrix_generate(3, 4, \"full\")"
   ]
  },
  {
   "cell_type": "code",
   "execution_count": 3,
   "id": "3dba3b81-0cc2-426c-afdf-851e9781e24b",
   "metadata": {},
   "outputs": [
    {
     "data": {
      "text/plain": [
       "array([[0.04224581, 0.        , 0.        , 0.        ],\n",
       "       [0.        , 0.21249988, 0.        , 0.        ],\n",
       "       [0.        , 0.        , 0.69479468, 0.        ],\n",
       "       [0.        , 0.        , 0.        , 0.3585665 ]])"
      ]
     },
     "execution_count": 3,
     "metadata": {},
     "output_type": "execute_result"
    }
   ],
   "source": [
    "matrix_generate(4, 4, \"diagonal\")"
   ]
  },
  {
   "cell_type": "code",
   "execution_count": 4,
   "id": "4d3df076-d823-42a4-b73c-deffbb61d88c",
   "metadata": {},
   "outputs": [
    {
     "data": {
      "text/plain": [
       "'Error with type diagonal and shape (4,3)'"
      ]
     },
     "execution_count": 4,
     "metadata": {},
     "output_type": "execute_result"
    }
   ],
   "source": [
    "matrix_generate(4, 3, \"diagonal\")"
   ]
  },
  {
   "cell_type": "code",
   "execution_count": 5,
   "id": "64f6a84c-4ec5-48bd-98f9-61ee2359a6c4",
   "metadata": {},
   "outputs": [
    {
     "data": {
      "text/plain": [
       "array([[0.34010191, 0.66805809, 0.13682258],\n",
       "       [0.        , 0.88638867, 0.31287517],\n",
       "       [0.        , 0.        , 0.73855819],\n",
       "       [0.        , 0.        , 0.        ],\n",
       "       [0.        , 0.        , 0.        ]])"
      ]
     },
     "execution_count": 5,
     "metadata": {},
     "output_type": "execute_result"
    }
   ],
   "source": [
    "matrix_generate(5, 3, \"upper_triangular\")"
   ]
  },
  {
   "cell_type": "code",
   "execution_count": 6,
   "id": "f6e0bd9f-aec4-48de-a631-7727e371ab4c",
   "metadata": {},
   "outputs": [
    {
     "data": {
      "text/plain": [
       "array([[0.98530998, 0.33170705, 0.70589054, 0.85259422, 0.4719688 ],\n",
       "       [0.        , 0.59549291, 0.34242651, 0.87184709, 0.27077522],\n",
       "       [0.        , 0.        , 0.04300856, 0.1390998 , 0.07167572]])"
      ]
     },
     "execution_count": 6,
     "metadata": {},
     "output_type": "execute_result"
    }
   ],
   "source": [
    "matrix_generate(3, 5, \"upper_triangular\")"
   ]
  },
  {
   "cell_type": "code",
   "execution_count": 9,
   "id": "1f08eee5-cb25-4a71-9c7a-7e18a1f09188",
   "metadata": {},
   "outputs": [
    {
     "data": {
      "text/plain": [
       "array([[0.79132855, 0.        , 0.        ],\n",
       "       [0.45430929, 0.50898886, 0.        ],\n",
       "       [0.30597536, 0.02141311, 0.76352188],\n",
       "       [0.41446375, 0.14371691, 0.00581857],\n",
       "       [0.06942215, 0.0593483 , 0.39897003]])"
      ]
     },
     "execution_count": 9,
     "metadata": {},
     "output_type": "execute_result"
    }
   ],
   "source": [
    "matrix_generate(5, 3, \"lower_triangular\")"
   ]
  },
  {
   "cell_type": "code",
   "execution_count": 10,
   "id": "bf6d0f04-0c17-4a0e-b5ee-1f3ea4adbd4a",
   "metadata": {},
   "outputs": [
    {
     "data": {
      "text/plain": [
       "array([[0.45498883, 0.        , 0.        , 0.        , 0.        ],\n",
       "       [0.82059551, 0.15923194, 0.        , 0.        , 0.        ]])"
      ]
     },
     "execution_count": 10,
     "metadata": {},
     "output_type": "execute_result"
    }
   ],
   "source": [
    "matrix_generate(2, 5, \"lower_triangular\")"
   ]
  },
  {
   "cell_type": "code",
   "execution_count": 14,
   "id": "04e205d4-dc50-4938-b3fb-53cfaf889c5a",
   "metadata": {},
   "outputs": [
    {
     "data": {
      "text/plain": [
       "array([[0.22286764, 0.50962892, 0.3704866 , 0.87214974],\n",
       "       [0.50962892, 0.10850153, 0.80639691, 0.24036443],\n",
       "       [0.3704866 , 0.80639691, 0.83783059, 0.2083882 ],\n",
       "       [0.87214974, 0.24036443, 0.2083882 , 0.81587267]])"
      ]
     },
     "execution_count": 14,
     "metadata": {},
     "output_type": "execute_result"
    }
   ],
   "source": [
    "matrix_generate(4, 4, \"symmetric\")"
   ]
  },
  {
   "cell_type": "code",
   "execution_count": 15,
   "id": "f63945f0-cc2f-45b7-8765-d0b3cc243f49",
   "metadata": {},
   "outputs": [
    {
     "data": {
      "text/plain": [
       "'Error with type symmetric and shape (5,3)'"
      ]
     },
     "execution_count": 15,
     "metadata": {},
     "output_type": "execute_result"
    }
   ],
   "source": [
    "matrix_generate(5, 3, \"symmetric\")"
   ]
  },
  {
   "cell_type": "code",
   "execution_count": 24,
   "id": "3ad48616-e4a6-4a05-946f-b7bcd173fb76",
   "metadata": {},
   "outputs": [
    {
     "data": {
      "text/plain": [
       "'Error with type singular and shape (5,3)'"
      ]
     },
     "execution_count": 24,
     "metadata": {},
     "output_type": "execute_result"
    }
   ],
   "source": [
    "matrix_generate(5, 3, \"singular\", 3)"
   ]
  },
  {
   "cell_type": "code",
   "execution_count": 31,
   "id": "7c3d811e-ea00-47ab-b9bc-e6361004894c",
   "metadata": {},
   "outputs": [
    {
     "data": {
      "text/plain": [
       "array([[ 0.16342882, -0.2792828 ,  0.29672842,  0.65841474],\n",
       "       [ 0.58184064,  0.45230312, -0.51767427, -0.10973766],\n",
       "       [ 0.2108097 ,  0.6276562 ,  0.74406057, -0.05976095],\n",
       "       [ 0.49558831, -0.03328401, -0.12848463,  0.54016141]])"
      ]
     },
     "execution_count": 31,
     "metadata": {},
     "output_type": "execute_result"
    }
   ],
   "source": [
    "matrix_generate(4, 4, \"singular\", 3)"
   ]
  },
  {
   "cell_type": "code",
   "execution_count": 43,
   "id": "beb18f5f-549a-41fd-aaae-879a66a18ace",
   "metadata": {},
   "outputs": [
    {
     "data": {
      "text/plain": [
       "array([[-0.01755228,  0.00149051, -0.00519523,  0.0188135 , -0.00459226],\n",
       "       [ 0.00943887, -0.00875644, -0.01208807, -0.00988858, -0.00543055],\n",
       "       [ 0.01496368, -0.01284969,  0.01350437,  0.01100133, -0.00840227]])"
      ]
     },
     "execution_count": 43,
     "metadata": {},
     "output_type": "execute_result"
    }
   ],
   "source": [
    "matrix_generate(3, 5, \"perturbation\", eps = 0.02)"
   ]
  }
 ],
 "metadata": {
  "kernelspec": {
   "display_name": "Python 3 (ipykernel)",
   "language": "python",
   "name": "python3"
  },
  "language_info": {
   "codemirror_mode": {
    "name": "ipython",
    "version": 3
   },
   "file_extension": ".py",
   "mimetype": "text/x-python",
   "name": "python",
   "nbconvert_exporter": "python",
   "pygments_lexer": "ipython3",
   "version": "3.12.5"
  }
 },
 "nbformat": 4,
 "nbformat_minor": 5
}
