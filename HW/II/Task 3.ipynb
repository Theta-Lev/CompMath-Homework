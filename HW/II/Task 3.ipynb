{
 "cells": [
  {
   "cell_type": "markdown",
   "id": "742ea05a-82b7-43c6-9292-d73dc207e474",
   "metadata": {},
   "source": [
    "<ol>\n",
    "    <h1>Упражнение 3 - Эквивалентность первых двух норм</h1>\n",
    "    Найдите константы $ C_{1} $ и $ C_{2} $ такие, что $ \\, C_1 ||\\mathbf{x}||_2 \\leqslant ||\\mathbf{x}||_1 \\leqslant C_2 ||\\mathbf{x}||_2 \\, $\n",
    "</ol>\n",
    "<hr>"
   ]
  },
  {
   "cell_type": "markdown",
   "id": "b0e3f18f-43d2-4808-9285-5fad3be5866a",
   "metadata": {},
   "source": [
    "<hr>\n",
    "<p style=\"text-align: left\">\n",
    "    Предположим, что $ \\mathbf{x} \\in \\mathbb{R}^{n} $ и $ \\mathbf{x} \\neq 0 $, иначе любые нормы будут равны нулю и поиск констант будет бессмысленным. Далее рассмотрим отдельно каждое неравенство и по порядку определим константы $ C_1 $ и $ C_2 $:\n",
    "</p>\n",
    "<p style=\"text-align: left\">\n",
    "    Для неравенства $ \\, C_1 ||\\mathbf{x}||_2 \\leqslant ||\\mathbf{x}||_1 \\, $ найдём $ С_1 $. Воспользуемся свойством $ \\ell_p $ норм:\n",
    "</p>\n",
    "<p style=\"text-align: center\">\n",
    "    \\[\n",
    "        \\begin{align*}\n",
    "            & |\\mathbf{x}||_1 \\geqslant ||\\mathbf{x}||_2, \\, \\text{В общем случае, мы можем воспользоваться свойствами единичного вектора и нормировки. Мы можем взять} \\, C_1 = \\frac{1}{\\sqrt{n}}; \\, \\text{тогда} \\\\\n",
    "            & ||\\mathbf{x}||_2 \\leqslant \\sqrt{n} ||\\mathbf{x}||_1, \\, \\text{после применения инверсии} \\\\\n",
    "            & \\sqrt{n} ||\\mathbf{x}||_2 \\leqslant ||\\mathbf{x}||_1, \\, \\text{и итого} \\\\\n",
    "            & \\frac{1}{\\sqrt{n}} ||\\mathbf{x}||_2 \\leqslant ||\\mathbf{x}||_1\n",
    "        \\end{align*}\n",
    "    \\]\n",
    "</p>\n",
    "<p style=\"text-align: left\">\n",
    "    Для неравенства $ \\, ||\\mathbf{x}||_1 \\leqslant C_2 ||\\mathbf{x}||_2 \\, $ найдём $С_2$. Для любых $x_i$ выполняется неравенство Коши-Шварца:\n",
    "</p>\n",
    "<p style=\"text-align: center\">\n",
    "    \\[\n",
    "        \\begin{align*}\n",
    "            & \\left( \\sum_{i=1}^n |x_i| \\right)^2 \\leqslant n \\sum_{i=1}^n x_i^2, \\, \\text{следовательно имеем} \\\\\n",
    "            & ||\\mathbf{x}||_1^2 \\leqslant n ||\\mathbf{x}||_2^2 \\\\\n",
    "            & ||\\mathbf{x}||_1 \\leqslant \\sqrt{n} ||\\mathbf{x}||_2\n",
    "        \\end{align*}\n",
    "    \\]\n",
    "</p>\n",
    "<p style=\"text-align: left\">\n",
    "    Таким образом, окончательное неравенство имеет вид: $ \\, \\frac{1}{\\sqrt{n}} ||\\mathbf{x}||_2 \\leq ||\\mathbf{x}||_1 \\leq \\sqrt{n} ||\\mathbf{x}||_2 \\, $\n",
    "</p>"
   ]
  }
 ],
 "metadata": {
  "kernelspec": {
   "display_name": "Python 3 (ipykernel)",
   "language": "python",
   "name": "python3"
  },
  "language_info": {
   "codemirror_mode": {
    "name": "ipython",
    "version": 3
   },
   "file_extension": ".py",
   "mimetype": "text/x-python",
   "name": "python",
   "nbconvert_exporter": "python",
   "pygments_lexer": "ipython3",
   "version": "3.12.5"
  }
 },
 "nbformat": 4,
 "nbformat_minor": 5
}
