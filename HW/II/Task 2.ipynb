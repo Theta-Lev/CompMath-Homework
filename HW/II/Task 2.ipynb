{
 "cells": [
  {
   "cell_type": "markdown",
   "id": "bcf3d1e8-8f8e-44e7-83d1-87ba7aa27c8e",
   "metadata": {},
   "source": [
    "<ol>\n",
    "    <h1>Упражнение 2 - Вычисление матричных норм и числа обусловленности</h1>\n",
    "    Реализовать вычисление трех основных норм векторов (L1, L2 и максимальную) и подчиненных им матричных норм. Реализовать вычисление числа обусловленности\n",
    "</ol>\n",
    "<hr>"
   ]
  },
  {
   "cell_type": "code",
   "execution_count": 2,
   "id": "1d143df0-01b8-40a3-9098-df395c7c8618",
   "metadata": {},
   "outputs": [],
   "source": [
    "import numpy as np\n",
    "\n",
    "def vector_norm(v, type_ = \"max\"):\n",
    "    if type_ == \"max\":\n",
    "        return np.max(np.abs(v))\n",
    "    elif type_ == \"l2\":\n",
    "        return np.sqrt(np.sum((np.abs(v))**2))\n",
    "    elif type_ == \"l1\":\n",
    "        return np.sum(np.abs(v))\n",
    "    else:\n",
    "        return f\"Error: no type {type_}\"\n",
    "\n",
    "def matrix_norm(A, type_ = \"max\"):\n",
    "    if type_ == \"max\":\n",
    "        return np.max(np.sum(np.abs(A), axis=1))\n",
    "    elif type_ == \"l2\":\n",
    "        eigenvalues, _ = np.linalg.eig(np.dot(A.T, A))\n",
    "        return np.sqrt(np.max(eigenvalues))\n",
    "    elif type_ == \"l1\":\n",
    "        return np.max(np.sum(np.abs(m), axis=0))\n",
    "    else:\n",
    "        return f\"Error: no type {type_}\"\n",
    "\n",
    "def condition_num(A):\n",
    "    norm_A = matrix_norm(A, \"l2\")\n",
    "    try:\n",
    "        inv_A = np.linalg.inv(A)\n",
    "        norm_inv_A = matrix_norm(inv_A, \"l2\")\n",
    "    except np.linalg.LinAlgError:\n",
    "        raise ValueError(\"Error: the matrix is singular and has no inverse\")\n",
    "    condition_num = norm_A * norm_inv_A\n",
    "    return condition_num"
   ]
  },
  {
   "cell_type": "code",
   "execution_count": 6,
   "id": "8682455e-9d70-47f7-ae3a-e6ab2335ed50",
   "metadata": {},
   "outputs": [
    {
     "data": {
      "text/plain": [
       "np.float64(406.08844758328456)"
      ]
     },
     "execution_count": 6,
     "metadata": {},
     "output_type": "execute_result"
    }
   ],
   "source": [
    "A = np.array([[1, 1.0001], [1, 1.01]])\n",
    "matrix_norm(A, \"l2\")\n",
    "condition_num(A)"
   ]
  }
 ],
 "metadata": {
  "kernelspec": {
   "display_name": "Python 3 (ipykernel)",
   "language": "python",
   "name": "python3"
  },
  "language_info": {
   "codemirror_mode": {
    "name": "ipython",
    "version": 3
   },
   "file_extension": ".py",
   "mimetype": "text/x-python",
   "name": "python",
   "nbconvert_exporter": "python",
   "pygments_lexer": "ipython3",
   "version": "3.12.5"
  }
 },
 "nbformat": 4,
 "nbformat_minor": 5
}
