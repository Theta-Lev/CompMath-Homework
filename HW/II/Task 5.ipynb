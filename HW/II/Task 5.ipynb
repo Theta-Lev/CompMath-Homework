{
 "cells": [
  {
   "cell_type": "markdown",
   "id": "6541c8c9-f33d-433b-9bf0-d2a4edf5ff23",
   "metadata": {},
   "source": [
    "<ol>\n",
    "    <h1>Упражнение 5 - Норма Фробениуса</h1>\n",
    "    Докажите, что для любой унитарной матрицы $ U $ (и для произвольной матрицы $ A $) имеет место равенство\n",
    "    <li> $ || U A ||_F = || AU ||_F = || A ||_F $ </li>\n",
    "    где $ || \\cdot ||_F $ — норма Фробениуса\n",
    "</ol>\n",
    "<hr>"
   ]
  },
  {
   "cell_type": "markdown",
   "id": "c2d6e050-45e5-4a19-bc1d-1ca28d90d6dd",
   "metadata": {},
   "source": [
    "<hr>\n",
    "<p style=\"text-align: left\">\n",
    "    Вспомним определение нормы Фробениуса\n",
    "    <ul>\n",
    "        <li>\n",
    "            $ || A ||_F = \\sqrt{\\sum_{i=1}^m \\sum_{j=1}^n\\left|a_{i j}\\right|^2} $\n",
    "        </li>\n",
    "    </ul>\n",
    "</p>\n",
    "<p style=\"text-align: left\">\n",
    "    Пусть $ k = m \\times n $. Введём новый объект - векторное пространство $ \\mathbf{V} \\simeq \\mathbb{R}^k$, тогда любой матрице $ A $ можно ввести в соответствие вектор $ \\mathbf{v} \\in \\mathbf{V} $ (сопоставим матрице вектор, полученный из элементов этой матрицы каким-то обходом по ней, например, по строкам). Тогда заметим, что:\n",
    "</p>\n",
    "<p style=\"text-align: center\">\n",
    "    \\[\n",
    "        {|| A ||_F}^2 = \\sum_{i=1}^m \\sum_{j=1}^n\\left|a_{i j}\\right|^2 = \\langle \\mathbf{v} | \\mathbf{v} \\rangle = \\mathbf{v}^2\n",
    "    \\]\n",
    "</p>\n",
    "<p style=\"text-align: left\">\n",
    "    Но теперь учтём, что оператор $ \\mathbf{\\hat{U}} $, задаваемый матрицей $ U $, является унитарным, следовательно, сохраняет скалярное произведение, следовательно, равенство выполняется\n",
    "</p>"
   ]
  }
 ],
 "metadata": {
  "kernelspec": {
   "display_name": "Python 3 (ipykernel)",
   "language": "python",
   "name": "python3"
  },
  "language_info": {
   "codemirror_mode": {
    "name": "ipython",
    "version": 3
   },
   "file_extension": ".py",
   "mimetype": "text/x-python",
   "name": "python",
   "nbconvert_exporter": "python",
   "pygments_lexer": "ipython3",
   "version": "3.12.5"
  }
 },
 "nbformat": 4,
 "nbformat_minor": 5
}
