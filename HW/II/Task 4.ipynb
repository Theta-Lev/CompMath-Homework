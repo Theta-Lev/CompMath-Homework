{
 "cells": [
  {
   "cell_type": "markdown",
   "id": "dd589e1e-a826-417c-a6e5-0333b800edb5",
   "metadata": {},
   "source": [
    "<ul>\n",
    "    <h1>Упражнение 4 - Евклидова и бесконечная норма</h1>\n",
    "    Пусть $ \\mathbf{x} $ — вектор размерности $ m $, а $ A $ — матрица $ m \\times n $. Докажите следующие неравенства и приведите примеры таких $ \\mathbf{x} $ и $ A $, при которых неравенства обращаются в равенства:\n",
    "    <li> $ ||\\mathbf{x}||_2 \\leqslant \\sqrt{m} \\cdot ||\\mathbf{x}||_{\\infty} $ </li>\n",
    "    <li> $ ||A||_{\\infty} \\leqslant \\sqrt{n} \\cdot ||A||_2 $ </li>\n",
    "</ul>\n",
    "<hr>"
   ]
  },
  {
   "cell_type": "markdown",
   "id": "632271b0-7a4c-40c8-8302-123a8cf50086",
   "metadata": {},
   "source": [
    "<hr>\n",
    "<p style=\"text-align: left\">\n",
    "    Рассмотрим векторное неравенство, для его доказательства воспользуемся определением норм:\n",
    "    <ul>\n",
    "        <li>\n",
    "            Норма $ \\ell_2 $:\n",
    "            $ ||\\mathbf{x}||_2 = \\sqrt{x_1^2 + x_2^2 + \\ldots + x_m^2} $\n",
    "        </li>\n",
    "        <li>\n",
    "            Норма $ \\ell_{\\infty} $:\n",
    "            $ ||\\mathbf{x}||_{\\infty} = \\max_{1 \\leq i \\leq m} |x_i| $\n",
    "        </li>\n",
    "    </ul>\n",
    "</p>\n",
    "<p style=\"text-align: left\">\n",
    "    Пусть $M = ||\\mathbf{x}||_{\\infty}$. Тогда $|x_i| \\leqslant M \\; \\forall i$, значит:\n",
    "$ x_1^2 + x_2^2 + \\ldots + x_m^2 \\leq m M^2 $, следовательно\n",
    "</p>\n",
    "<p style=\"text-align: center\">\n",
    "    \\[\n",
    "        \\begin{align*}\n",
    "            & ||\\mathbf{x}||_2 = \\sqrt{x_1^2 + x_2^2 + \\ldots + x_m^2} \\leqslant \\sqrt{m M^2} = \\sqrt{m} \\cdot ||\\mathbf{x}||_{\\infty} \\\\\n",
    "            \\text{Итого:} \\ & ||\\mathbf{x}||_2 \\leqslant \\sqrt{m} \\cdot ||\\mathbf{x}||_{\\infty}\n",
    "        \\end{align*}\n",
    "    \\]\n",
    "</p>\n",
    "<p style=\"text-align: left\">\n",
    "    Рассмотрим пример такого $ \\mathbf{x} $, что неравенство обращается в равенство:\n",
    "</p>\n",
    "<p style=\"text-align: center\">\n",
    "    \\[\n",
    "        \\begin{align*}\n",
    "            & \\text{Пусть} \\ x = (1, 1, \\ldots, 1) \\ \\text{размерности} \\ m, \\text{тогда} \\\\\n",
    "            & ||\\mathbf{x}||_2 = \\sqrt{m} \\ \\text{и} \\ ||\\mathbf{x}||_{\\infty} = 1 \\ \\text{что значит, что} \\\\\n",
    "            & ||\\mathbf{x}||_2 = \\sqrt{m} \\leqslant \\sqrt{m} \\cdot 1\n",
    "        \\end{align*}\n",
    "    \\]\n",
    "</p>\n",
    "<p style=\"text-align: left\">\n",
    "    Таким образом, окончательное неравенство имеет вид: $ \\, \\frac{1}{\\sqrt{n}} ||\\mathbf{x}||_2 \\leq ||\\mathbf{x}||_1 \\leq \\sqrt{n} ||\\mathbf{x}||_2 \\, $\n",
    "</p>"
   ]
  },
  {
   "cell_type": "markdown",
   "id": "d90e179f-f4ef-4ce4-9b52-7d3a81c28b09",
   "metadata": {},
   "source": [
    "<hr>\n",
    "<p style=\"text-align: left\">\n",
    "    Рассмотрим неравенство для матричных норм, по определению\n",
    "</p>\n",
    "<p style=\"text-align: center\">\n",
    "    \\[\n",
    "        \\begin{align*}\n",
    "            & ||A||_{\\infty} = \\sup_{\\mathbf{x} \\neq 0} \\dfrac{||A\\mathbf{x}||_{\\infty}}{||\\mathbf{x}||_{\\infty}}\n",
    "            \\leqslant \\sup_{\\mathbf{x} \\neq 0} \\dfrac{||A\\mathbf{x}||_{\\infty}}{\\sqrt{m}||\\mathbf{x}||_{2}}\n",
    "            \\leqslant \\sup_{\\mathbf{x} \\neq 0} \\dfrac{\\sqrt{n} \\cdot ||A\\mathbf{x}||_{2}}{\\sqrt{m} \\cdot ||\\mathbf{x}||_{2}}\n",
    "            \\leqslant \\sqrt{n} \\cdot ||A||_{2}, \\\\\n",
    "            \\text{откуда}\\ & ||A||_{\\infty} \\leq \\sqrt{n} \\cdot ||A||_2\n",
    "        \\end{align*}\n",
    "    \\]\n",
    "</p>\n",
    "<p style=\"text-align: left\">\n",
    "    Рассмотрим матрицу $ A = \\begin{pmatrix} 1 & 1 & \\dots & 1 \\\\ 0 & 0 & \\dots & 0 \\\\ \\vdots & \\vdots & \\ddots & \\vdots \\\\ 0 & 0 & \\dots & 0 \\end{pmatrix}_{m \\times n} $. В этом случае:\n",
    "</p>\n",
    "<p style=\"text-align: center\">\n",
    "    \\[\n",
    "        \\begin{align*}\n",
    "            & \\text{Норма} \\ ||A||_{\\infty} = n, \\\\\n",
    "            & \\text{Норма} \\ ||A||_2 = \\sqrt{n}, \\\\\n",
    "            & ||A||_{\\infty} = n = \\sqrt{n} \\cdot \\sqrt{n} = \\sqrt{n} \\cdot ||A||_{2}\n",
    "        \\end{align*}\n",
    "    \\]\n",
    "</p>"
   ]
  }
 ],
 "metadata": {
  "kernelspec": {
   "display_name": "Python 3 (ipykernel)",
   "language": "python",
   "name": "python3"
  },
  "language_info": {
   "codemirror_mode": {
    "name": "ipython",
    "version": 3
   },
   "file_extension": ".py",
   "mimetype": "text/x-python",
   "name": "python",
   "nbconvert_exporter": "python",
   "pygments_lexer": "ipython3",
   "version": "3.12.5"
  }
 },
 "nbformat": 4,
 "nbformat_minor": 5
}
