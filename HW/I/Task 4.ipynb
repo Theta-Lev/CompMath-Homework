{
 "cells": [
  {
   "cell_type": "markdown",
   "id": "0550b50f-a72c-49f9-ad8f-b940407fa6a5",
   "metadata": {},
   "source": [
    "<ol>\n",
    "    <h1>Упражнение 4 - Погрешность определения корня уравнения</h1>\n",
    "    <p>\n",
    "        С каким числом верных знаков (или относительной погрешностью) должен быть известен свободный член в уравнении $x^2 - 2x + 0.999993751 = 0$, чтобы корни имели четыре верных знака?\n",
    "    </p>\n",
    "</ol>\n",
    "<hr>"
   ]
  },
  {
   "cell_type": "markdown",
   "id": "997ba64a-fd57-463d-8df5-69f4c033c359",
   "metadata": {},
   "source": [
    "<hr>\n",
    "<p style=\"text-align: left\">\n",
    "    Преобразуем уравнение $x^2 - 2x + 0.999993751 = 0$ к следующему виду:\n",
    "</p>\n",
    "<p style=\"text-align: center\">\n",
    "    \\begin{align*}\n",
    "        & x^2 - 2x + 0.999993751 = x^2 - 2x + 1 - 1 + 0.999993751 = (x-1)^2 - (1 - 0.999993751) = 0;\n",
    "        \\\\\n",
    "        & (x-1)^2 = (1 - 0.999993751);\n",
    "        \\\\\n",
    "        & x-1 = \\pm \\sqrt{1-0,999993751};\n",
    "        \\\\\n",
    "        & x = 1 \\pm \\sqrt{1-0,999993751}.\n",
    "    \\end{align*}\n",
    "</p>\n",
    "<p style=\"text-align: left\">\n",
    "    Пусть $\\space x(t) = 1 \\pm \\sqrt{1-t}, \\space t \\leqslant 1$. Тогда рассмотрим погрешность определения $\\Delta x$ как функцию $\\Delta t$:\n",
    "</p>\n",
    "<p style=\"text-align: center\">\n",
    "    \\begin{align*}\n",
    "        & \\Delta x = \\Delta \\biggl( 1 \\pm \\sqrt{1-t} \\biggr) = \\Delta \\biggl( \\sqrt{1-t} \\biggr) = \\frac{1}{2 \\sqrt{1-t}} \\Delta t.\n",
    "    \\end{align*}\n",
    "</p>\n",
    "<p style=\"text-align: center\">\n",
    "    \\begin{align*}\n",
    "        \\Downarrow\n",
    "    \\end{align*}\n",
    "</p>\n",
    "<p style=\"text-align: center\">\n",
    "    \\begin{align*}\n",
    "        \\Delta t = 2 \\sqrt{1-t} \\Delta x.\n",
    "    \\end{align*}\n",
    "</p>\n",
    "<p style=\"text-align: left\">\n",
    "    Подставим вместо $t$ числовое значение, по условию мы хотим получить правильные четыре знака корня, следовательно погрешность $\\Delta x \\simeq 10^{-5}$:\n",
    "</p>"
   ]
  },
  {
   "cell_type": "code",
   "execution_count": 1,
   "id": "20c41919-3941-4715-b40d-2d6afa606153",
   "metadata": {},
   "outputs": [
    {
     "name": "stdout",
     "output_type": "stream",
     "text": [
      "Искомое значение Δt = 4.999599984004207e-08\n"
     ]
    }
   ],
   "source": [
    "import numpy as np\n",
    "\n",
    "print(\"Искомое значение \\u0394t =\", 2 * np.sqrt(1 - 0.999993751) * 1e-5)"
   ]
  }
 ],
 "metadata": {
  "kernelspec": {
   "display_name": "Python 3 (ipykernel)",
   "language": "python",
   "name": "python3"
  },
  "language_info": {
   "codemirror_mode": {
    "name": "ipython",
    "version": 3
   },
   "file_extension": ".py",
   "mimetype": "text/x-python",
   "name": "python",
   "nbconvert_exporter": "python",
   "pygments_lexer": "ipython3",
   "version": "3.12.5"
  }
 },
 "nbformat": 4,
 "nbformat_minor": 5
}
