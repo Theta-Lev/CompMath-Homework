{
 "cells": [
  {
   "cell_type": "markdown",
   "id": "bb3f444f-fc03-4d02-b581-74d3d3179cd2",
   "metadata": {},
   "source": [
    "<ol>\n",
    "    <h1>Упражнение 1 - Numpy</h1>\n",
    "    <li>Пусть у двух матриц совпадает количество строк. Объедините их в одну горизонтально (объедините столбцы этих матриц)</li>\n",
    "    <li>Пусть дана пuтру-матрица $M$ и два массива индексов $a, b$ одинаковой длины. Постройте массив элементов $M[a[0],b[0]], M[a[1],b[1]],\\dots$ Указание: для выполнения этой операции не требуется никаких именных функций.</li>\n",
    "    <li>Подсчитайте след матрицы и количество ненулевых элементов на ее диагонали</li>\n",
    "    <li>Даны два произвольных numpy-массива одинаковой размерности $(n,m)$. Замените нулями те элементы второго массива, для которых на соответствующем месте в первом массиве находятся отрицательные числа</li>\n",
    "    <li>Даны две матрицы с одинаковым количеством строк и количеством столбцов $n$ и $m$ соответственно. Постройте матрицу\n",
    "всевозможных произведений столбцов друг на друга (в смысле скалярного произведения).</li>\n",
    "</ol>\n",
    "<hr>"
   ]
  },
  {
   "cell_type": "code",
   "execution_count": 1,
   "id": "990c013a-151a-48e7-8968-1347d747af0d",
   "metadata": {},
   "outputs": [],
   "source": [
    "import numpy as np"
   ]
  },
  {
   "cell_type": "code",
   "execution_count": 2,
   "id": "eb5654c4-a5fc-4425-849c-dbba1c5cfe9e",
   "metadata": {},
   "outputs": [
    {
     "name": "stdout",
     "output_type": "stream",
     "text": [
      "[[0. 0. 0. 0. 1. 1. 1. 1. 1. 1. 1.]\n",
      " [0. 0. 0. 0. 1. 1. 1. 1. 1. 1. 1.]\n",
      " [0. 0. 0. 0. 1. 1. 1. 1. 1. 1. 1.]]\n"
     ]
    }
   ],
   "source": [
    "#Ex 1.1\n",
    "\n",
    "A = np.zeros((3,4))\n",
    "B = np.ones((3,7))\n",
    "\n",
    "C = np.concatenate((A, B), axis = 1)\n",
    "print(C)"
   ]
  },
  {
   "cell_type": "code",
   "execution_count": 3,
   "id": "fc98a7ed-9de8-446c-8b45-cc5bc51cfea2",
   "metadata": {},
   "outputs": [
    {
     "name": "stdout",
     "output_type": "stream",
     "text": [
      "M\n",
      " [[8 2 3 4 6 8 6]\n",
      " [9 5 2 4 5 0 8]\n",
      " [3 2 5 8 4 2 1]\n",
      " [8 6 3 7 4 0 3]\n",
      " [2 3 6 7 1 3 4]]\n",
      "a\n",
      " [0 2 0 3 0 1]\n",
      "b\n",
      " [6 4 5 3 1 2]\n",
      "M[a,b]\n",
      " [6 4 8 7 2 2]\n"
     ]
    }
   ],
   "source": [
    "#Ex 1.2\n",
    "\n",
    "M = np.random.randint(low = 0, high = 10, size = (5, 7))\n",
    "a = np.random.randint(low = 0, high = 5, size = 6)\n",
    "b = np.random.randint(low = 0, high = 7, size = 6)\n",
    "\n",
    "print(\"M\\n\", M)\n",
    "print(\"a\\n\", a)\n",
    "print(\"b\\n\", b)\n",
    "print(\"M[a,b]\\n\", M[a,b])"
   ]
  },
  {
   "cell_type": "code",
   "execution_count": 4,
   "id": "9a8fbcbf-cda0-4b29-a915-0782e90f2752",
   "metadata": {},
   "outputs": [
    {
     "name": "stdout",
     "output_type": "stream",
     "text": [
      "N:\n",
      " [[-2  1 -3 -1  3  1  0]\n",
      " [-2  3 -2 -3 -2 -2 -2]\n",
      " [ 0 -3  0  0  2  0 -1]\n",
      " [ 3 -1  1  1  0 -2 -1]\n",
      " [-2 -3  1  3 -2 -1  3]]\n",
      "Trace: 0\n",
      "Non-zero diag elements: 4\n"
     ]
    }
   ],
   "source": [
    "#Ex 1.3\n",
    "\n",
    "N = np.random.randint(low = -3, high = 4, size = (5, 7))\n",
    "tr = np.trace(N)\n",
    "Dg = np.diag(N)\n",
    "n = np.count_nonzero(Dg)\n",
    "\n",
    "print(\"N:\\n\", N)\n",
    "print(\"Trace:\", tr)\n",
    "print(\"Non-zero diag elements:\", n)"
   ]
  },
  {
   "cell_type": "code",
   "execution_count": 5,
   "id": "2adfe2a6-a0c6-48a4-b7d2-68cebfd8a592",
   "metadata": {},
   "outputs": [
    {
     "name": "stdout",
     "output_type": "stream",
     "text": [
      "A:\n",
      " [[0 0 0 0 0 0 1]\n",
      " [1 0 0 1 0 1 1]\n",
      " [1 1 0 0 0 0 0]\n",
      " [0 0 0 0 0 1 0]\n",
      " [1 0 1 0 1 0 1]]\n",
      "B:\n",
      " [[1 2 1 1 3 2 1]\n",
      " [2 2 1 2 3 2 2]\n",
      " [2 1 2 3 3 2 3]\n",
      " [1 2 2 2 1 2 2]\n",
      " [1 1 1 3 2 2 3]]\n",
      "B[A == 0]:\n",
      " [[0 0 0 0 0 0 1]\n",
      " [2 0 0 2 0 2 2]\n",
      " [2 1 0 0 0 0 0]\n",
      " [0 0 0 0 0 2 0]\n",
      " [1 0 1 0 2 0 3]]\n"
     ]
    }
   ],
   "source": [
    "#Ex 1.4\n",
    "\n",
    "n, m = 5, 7\n",
    "\n",
    "A = np.random.randint(low = 0, high = 2, size = (n, m))\n",
    "B = np.random.randint(low = 1, high = 4, size = (n, m))\n",
    "print(\"A:\\n\", A)\n",
    "print(\"B:\\n\", B)\n",
    "\n",
    "B[A == 0] = 0\n",
    "print(\"B[A == 0]:\\n\", B)"
   ]
  },
  {
   "cell_type": "code",
   "execution_count": 6,
   "id": "88ab2fb4-66ef-4727-88b5-6dc089e6c613",
   "metadata": {},
   "outputs": [
    {
     "name": "stdout",
     "output_type": "stream",
     "text": [
      "A:\n",
      " [[-2  2 -2  3 -2  3 -2]\n",
      " [-3 -2  3  0 -2  3  3]\n",
      " [-1 -3  0 -2 -2 -3 -3]\n",
      " [-1  2  1  3  3 -2  1]\n",
      " [ 1 -3 -3 -1 -1  0  3]]\n",
      "B:\n",
      " [[-2 -1  0  3  2 -2  0]\n",
      " [ 1  3  0  3 -2  3 -1]\n",
      " [ 0  2  2  2 -2  0 -2]\n",
      " [-2 -1 -1  2  0  2  3]\n",
      " [ 0 -1  2 -3  3 -2  3]]\n",
      "A*B\n",
      " [[  3  -9   1 -22   7  -9   5]\n",
      " [-10 -13 -14   7   5   0   5]\n",
      " [  5  13  -7  14 -19  21  -9]\n",
      " [-12  -9  -9  14   7   2  10]\n",
      " [ -4 -10  -9  -7   1   6  12]\n",
      " [  1   2  -4   8   6  -1  -3]\n",
      " [  5   1  -1 -10   5   9  15]]\n"
     ]
    }
   ],
   "source": [
    "#Ex 1.5\n",
    "\n",
    "n, m = 5, 7\n",
    "\n",
    "A = np.random.randint(low = -3, high = 4, size = (n, m))\n",
    "B = np.random.randint(low = -3, high = 4, size = (n, m))\n",
    "print(\"A:\\n\", A)\n",
    "print(\"B:\\n\", B)\n",
    "\n",
    "C = np.zeros((m, m), dtype = np.int32)\n",
    "for i in range(m):\n",
    "    for j in range(m):\n",
    "        C[i, j] = np.dot(A[:, i], B[:, j])\n",
    "\n",
    "print(\"A*B\\n\", C)"
   ]
  }
 ],
 "metadata": {
  "kernelspec": {
   "display_name": "Python 3 (ipykernel)",
   "language": "python",
   "name": "python3"
  },
  "language_info": {
   "codemirror_mode": {
    "name": "ipython",
    "version": 3
   },
   "file_extension": ".py",
   "mimetype": "text/x-python",
   "name": "python",
   "nbconvert_exporter": "python",
   "pygments_lexer": "ipython3",
   "version": "3.12.5"
  }
 },
 "nbformat": 4,
 "nbformat_minor": 5
}
